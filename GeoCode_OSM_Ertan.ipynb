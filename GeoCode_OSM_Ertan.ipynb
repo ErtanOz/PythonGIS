{
  "nbformat": 4,
  "nbformat_minor": 0,
  "metadata": {
    "kernelspec": {
      "display_name": "Python 3",
      "language": "python",
      "name": "python3"
    },
    "language_info": {
      "codemirror_mode": {
        "name": "ipython",
        "version": 3
      },
      "file_extension": ".py",
      "mimetype": "text/x-python",
      "name": "python",
      "nbconvert_exporter": "python",
      "pygments_lexer": "ipython3",
      "version": "3.8.5"
    },
    "colab": {
      "name": "GeoCode OSM Ertan.ipynb",
      "provenance": [],
      "include_colab_link": true
    }
  },
  "cells": [
    {
      "cell_type": "markdown",
      "metadata": {
        "id": "view-in-github",
        "colab_type": "text"
      },
      "source": [
        "<a href=\"https://colab.research.google.com/github/ErtanOz/PythonGIS/blob/main/GeoCode_OSM_Ertan.ipynb\" target=\"_parent\"><img src=\"https://colab.research.google.com/assets/colab-badge.svg\" alt=\"Open In Colab\"/></a>"
      ]
    },
    {
      "cell_type": "code",
      "metadata": {
        "id": "vQDtoA_4hYOD"
      },
      "source": [
        "import pandas as pd\n",
        "pd.set_option(\"max_rows\", 400)\n",
        "pd.set_option(\"max_colwidth\", 400)"
      ],
      "execution_count": null,
      "outputs": []
    },
    {
      "cell_type": "code",
      "metadata": {
        "id": "wD5iZc5EhYOI",
        "outputId": "4dc5caa3-6c56-4e4d-ad31-33f6fcbe32b5"
      },
      "source": [
        "!pip install geopy"
      ],
      "execution_count": null,
      "outputs": [
        {
          "name": "stdout",
          "output_type": "stream",
          "text": [
            "Requirement already satisfied: geopy in c:\\anaconda\\lib\\site-packages (2.2.0)\n",
            "Requirement already satisfied: geographiclib<2,>=1.49 in c:\\anaconda\\lib\\site-packages (from geopy) (1.52)\n"
          ]
        }
      ]
    },
    {
      "cell_type": "code",
      "metadata": {
        "id": "muJXGxFnhYOJ"
      },
      "source": [
        "from geopy.geocoders import Nominatim"
      ],
      "execution_count": null,
      "outputs": []
    },
    {
      "cell_type": "code",
      "metadata": {
        "id": "kgBk57iIhYOK"
      },
      "source": [
        "geolocator = Nominatim(user_agent=\"YOUR NAME's mapping app\", timeout=2)"
      ],
      "execution_count": null,
      "outputs": []
    },
    {
      "cell_type": "code",
      "metadata": {
        "id": "bw7mwdKihYOL"
      },
      "source": [
        "def find_location(row):\n",
        "    \n",
        "    place = row['place']\n",
        "    \n",
        "    location = geolocator.geocode(place)\n",
        "    \n",
        "    if location != None:\n",
        "        return location.address, location.latitude, location.longitude, location.raw['importance']\n",
        "    else:\n",
        "        return \"Not Found\", \"Not Found\", \"Not Found\", \"Not Found\""
      ],
      "execution_count": null,
      "outputs": []
    },
    {
      "cell_type": "code",
      "metadata": {
        "id": "vCcCw5GohYOL",
        "outputId": "5b32b986-2914-4ecc-8e07-9e8df8d79b1f"
      },
      "source": [
        "ithaca_df = pd.read_csv(\"locations.csv\")\n",
        "ithaca_df"
      ],
      "execution_count": null,
      "outputs": [
        {
          "data": {
            "text/html": [
              "<div>\n",
              "<style scoped>\n",
              "    .dataframe tbody tr th:only-of-type {\n",
              "        vertical-align: middle;\n",
              "    }\n",
              "\n",
              "    .dataframe tbody tr th {\n",
              "        vertical-align: top;\n",
              "    }\n",
              "\n",
              "    .dataframe thead th {\n",
              "        text-align: right;\n",
              "    }\n",
              "</style>\n",
              "<table border=\"1\" class=\"dataframe\">\n",
              "  <thead>\n",
              "    <tr style=\"text-align: right;\">\n",
              "      <th></th>\n",
              "      <th>place</th>\n",
              "    </tr>\n",
              "  </thead>\n",
              "  <tbody>\n",
              "    <tr>\n",
              "      <th>0</th>\n",
              "      <td>3 Beatrice Avenue SW16 4UW</td>\n",
              "    </tr>\n",
              "    <tr>\n",
              "      <th>1</th>\n",
              "      <td>Heumarkt 54 50664 Köln</td>\n",
              "    </tr>\n",
              "  </tbody>\n",
              "</table>\n",
              "</div>"
            ],
            "text/plain": [
              "                        place\n",
              "0  3 Beatrice Avenue SW16 4UW\n",
              "1      Heumarkt 54 50664 Köln"
            ]
          },
          "execution_count": 28,
          "metadata": {},
          "output_type": "execute_result"
        }
      ]
    },
    {
      "cell_type": "code",
      "metadata": {
        "id": "CW_Kw2lFhYOM",
        "outputId": "8becf8cd-0d02-4a32-a59e-37cba3a9b57e"
      },
      "source": [
        "ithaca_df[['address', 'lat', 'lon', 'importance']] = ithaca_df.apply(find_location, axis=\"columns\", result_type=\"expand\")\n",
        "ithaca_df"
      ],
      "execution_count": null,
      "outputs": [
        {
          "data": {
            "text/html": [
              "<div>\n",
              "<style scoped>\n",
              "    .dataframe tbody tr th:only-of-type {\n",
              "        vertical-align: middle;\n",
              "    }\n",
              "\n",
              "    .dataframe tbody tr th {\n",
              "        vertical-align: top;\n",
              "    }\n",
              "\n",
              "    .dataframe thead th {\n",
              "        text-align: right;\n",
              "    }\n",
              "</style>\n",
              "<table border=\"1\" class=\"dataframe\">\n",
              "  <thead>\n",
              "    <tr style=\"text-align: right;\">\n",
              "      <th></th>\n",
              "      <th>place</th>\n",
              "      <th>address</th>\n",
              "      <th>lat</th>\n",
              "      <th>lon</th>\n",
              "      <th>importance</th>\n",
              "    </tr>\n",
              "  </thead>\n",
              "  <tbody>\n",
              "    <tr>\n",
              "      <th>0</th>\n",
              "      <td>3 Beatrice Avenue SW16 4UW</td>\n",
              "      <td>Beatrice Avenue, Norbury, London Borough of Croydon, London, Streatham, Greater London, England, SW16 4UW, United Kingdom</td>\n",
              "      <td>51.405588</td>\n",
              "      <td>-0.121150</td>\n",
              "      <td>0.500</td>\n",
              "    </tr>\n",
              "    <tr>\n",
              "      <th>1</th>\n",
              "      <td>Heumarkt 54 50664 Köln</td>\n",
              "      <td>Hänneschen und die Pfeffermühle, 54, Heumarkt, Martinsviertel, Altstadt-Nord, Innenstadt, Köln, Nordrhein-Westfalen, 50667, Deutschland</td>\n",
              "      <td>50.937308</td>\n",
              "      <td>6.961288</td>\n",
              "      <td>0.331</td>\n",
              "    </tr>\n",
              "  </tbody>\n",
              "</table>\n",
              "</div>"
            ],
            "text/plain": [
              "                        place  \\\n",
              "0  3 Beatrice Avenue SW16 4UW   \n",
              "1      Heumarkt 54 50664 Köln   \n",
              "\n",
              "                                                                                                                                   address  \\\n",
              "0                Beatrice Avenue, Norbury, London Borough of Croydon, London, Streatham, Greater London, England, SW16 4UW, United Kingdom   \n",
              "1  Hänneschen und die Pfeffermühle, 54, Heumarkt, Martinsviertel, Altstadt-Nord, Innenstadt, Köln, Nordrhein-Westfalen, 50667, Deutschland   \n",
              "\n",
              "         lat       lon  importance  \n",
              "0  51.405588 -0.121150       0.500  \n",
              "1  50.937308  6.961288       0.331  "
            ]
          },
          "execution_count": 29,
          "metadata": {},
          "output_type": "execute_result"
        }
      ]
    },
    {
      "cell_type": "code",
      "metadata": {
        "id": "uPOkuQAihYON"
      },
      "source": [
        ""
      ],
      "execution_count": null,
      "outputs": []
    }
  ]
}