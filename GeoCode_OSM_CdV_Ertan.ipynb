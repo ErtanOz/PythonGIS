{
  "nbformat": 4,
  "nbformat_minor": 0,
  "metadata": {
    "kernelspec": {
      "display_name": "Python 3",
      "language": "python",
      "name": "python3"
    },
    "language_info": {
      "codemirror_mode": {
        "name": "ipython",
        "version": 3
      },
      "file_extension": ".py",
      "mimetype": "text/x-python",
      "name": "python",
      "nbconvert_exporter": "python",
      "pygments_lexer": "ipython3",
      "version": "3.8.5"
    },
    "colab": {
      "name": "GeoCode OSM CdV_Ertan.ipynb",
      "provenance": [],
      "include_colab_link": true
    }
  },
  "cells": [
    {
      "cell_type": "markdown",
      "metadata": {
        "id": "view-in-github",
        "colab_type": "text"
      },
      "source": [
        "<a href=\"https://colab.research.google.com/github/ErtanOz/PythonGIS/blob/main/GeoCode_OSM_CdV_Ertan.ipynb\" target=\"_parent\"><img src=\"https://colab.research.google.com/assets/colab-badge.svg\" alt=\"Open In Colab\"/></a>"
      ]
    },
    {
      "cell_type": "code",
      "metadata": {
        "id": "5KmGSopnynuZ"
      },
      "source": [
        "import pandas as pd\n",
        "pd.set_option(\"max_rows\", 400)\n",
        "pd.set_option(\"max_colwidth\", 400)"
      ],
      "execution_count": null,
      "outputs": []
    },
    {
      "cell_type": "code",
      "metadata": {
        "id": "-LGvF62fynub",
        "outputId": "332df422-8c7b-4112-9e16-a4f2c2508ee5"
      },
      "source": [
        "!pip install geopy"
      ],
      "execution_count": null,
      "outputs": [
        {
          "name": "stdout",
          "output_type": "stream",
          "text": [
            "Requirement already satisfied: geopy in c:\\anaconda\\lib\\site-packages (2.2.0)\n",
            "Requirement already satisfied: geographiclib<2,>=1.49 in c:\\anaconda\\lib\\site-packages (from geopy) (1.52)\n"
          ]
        }
      ]
    },
    {
      "cell_type": "code",
      "metadata": {
        "id": "yOltWW7dynuc"
      },
      "source": [
        "from geopy.geocoders import Nominatim"
      ],
      "execution_count": null,
      "outputs": []
    },
    {
      "cell_type": "code",
      "metadata": {
        "id": "gYul-94Aynuc"
      },
      "source": [
        "geolocator = Nominatim(user_agent=\"YOUR NAME's mapping app\", timeout=2)"
      ],
      "execution_count": null,
      "outputs": []
    },
    {
      "cell_type": "code",
      "metadata": {
        "id": "Cjt-lLbmynud"
      },
      "source": [
        "def find_location(row):\n",
        "    \n",
        "    place = row['place']\n",
        "    \n",
        "    location = geolocator.geocode(place)\n",
        "    \n",
        "    if location != None:\n",
        "        return location.address, location.latitude, location.longitude, location.raw['importance']\n",
        "    else:\n",
        "        return \"Not Found\", \"Not Found\", \"Not Found\", \"Not Found\""
      ],
      "execution_count": null,
      "outputs": []
    },
    {
      "cell_type": "code",
      "metadata": {
        "id": "3dRe7ppoynud",
        "outputId": "a1b4780b-2048-46bd-a424-a1bde6f2f7c2"
      },
      "source": [
        "koeln_df = pd.read_csv(\"koeln_locations_CdV.csv\")\n",
        "koeln_df"
      ],
      "execution_count": null,
      "outputs": [
        {
          "data": {
            "text/html": [
              "<div>\n",
              "<style scoped>\n",
              "    .dataframe tbody tr th:only-of-type {\n",
              "        vertical-align: middle;\n",
              "    }\n",
              "\n",
              "    .dataframe tbody tr th {\n",
              "        vertical-align: top;\n",
              "    }\n",
              "\n",
              "    .dataframe thead th {\n",
              "        text-align: right;\n",
              "    }\n",
              "</style>\n",
              "<table border=\"1\" class=\"dataframe\">\n",
              "  <thead>\n",
              "    <tr style=\"text-align: right;\">\n",
              "      <th></th>\n",
              "      <th>place</th>\n",
              "    </tr>\n",
              "  </thead>\n",
              "  <tbody>\n",
              "    <tr>\n",
              "      <th>0</th>\n",
              "      <td>Luxemburger Strasse 66 50674 Koeln</td>\n",
              "    </tr>\n",
              "    <tr>\n",
              "      <th>1</th>\n",
              "      <td>Quatermarkt  4 50667 Koeln</td>\n",
              "    </tr>\n",
              "    <tr>\n",
              "      <th>2</th>\n",
              "      <td>Rothehausstrasse 30 50823 Koeln</td>\n",
              "    </tr>\n",
              "  </tbody>\n",
              "</table>\n",
              "</div>"
            ],
            "text/plain": [
              "                                place\n",
              "0  Luxemburger Strasse 66 50674 Koeln\n",
              "1          Quatermarkt  4 50667 Koeln\n",
              "2     Rothehausstrasse 30 50823 Koeln"
            ]
          },
          "execution_count": 12,
          "metadata": {},
          "output_type": "execute_result"
        }
      ]
    },
    {
      "cell_type": "code",
      "metadata": {
        "id": "RqUKvycWynud",
        "outputId": "0ca60c9e-71f4-4f6d-9099-07d0ddf9811e"
      },
      "source": [
        "koeln_df[['address', 'lat', 'lon', 'importance']] = koeln_df.apply(find_location, axis=\"columns\", result_type=\"expand\")\n",
        "koeln_df"
      ],
      "execution_count": null,
      "outputs": [
        {
          "data": {
            "text/html": [
              "<div>\n",
              "<style scoped>\n",
              "    .dataframe tbody tr th:only-of-type {\n",
              "        vertical-align: middle;\n",
              "    }\n",
              "\n",
              "    .dataframe tbody tr th {\n",
              "        vertical-align: top;\n",
              "    }\n",
              "\n",
              "    .dataframe thead th {\n",
              "        text-align: right;\n",
              "    }\n",
              "</style>\n",
              "<table border=\"1\" class=\"dataframe\">\n",
              "  <thead>\n",
              "    <tr style=\"text-align: right;\">\n",
              "      <th></th>\n",
              "      <th>place</th>\n",
              "      <th>address</th>\n",
              "      <th>lat</th>\n",
              "      <th>lon</th>\n",
              "      <th>importance</th>\n",
              "    </tr>\n",
              "  </thead>\n",
              "  <tbody>\n",
              "    <tr>\n",
              "      <th>0</th>\n",
              "      <td>Luxemburger Strasse 66 50674 Koeln</td>\n",
              "      <td>Mein Brotkörbchen, 66, Luxemburger Straße, Studentenviertel, Neustadt/Süd, Innenstadt, Köln, Nordrhein-Westfalen, 50674, Deutschland</td>\n",
              "      <td>50.925996</td>\n",
              "      <td>6.938053</td>\n",
              "      <td>0.321000</td>\n",
              "    </tr>\n",
              "    <tr>\n",
              "      <th>1</th>\n",
              "      <td>Quatermarkt  4 50667 Koeln</td>\n",
              "      <td>Alt St. Alban, 4, Quatermarkt, Martinsviertel, Altstadt-Nord, Innenstadt, Köln, Nordrhein-Westfalen, 50667, Deutschland</td>\n",
              "      <td>50.936905</td>\n",
              "      <td>6.958254</td>\n",
              "      <td>0.598514</td>\n",
              "    </tr>\n",
              "    <tr>\n",
              "      <th>2</th>\n",
              "      <td>Rothehausstrasse 30 50823 Koeln</td>\n",
              "      <td>30, Rothehausstraße, Ehrenfeld, Köln, Nordrhein-Westfalen, 50823, Deutschland</td>\n",
              "      <td>50.947517</td>\n",
              "      <td>6.918038</td>\n",
              "      <td>0.221000</td>\n",
              "    </tr>\n",
              "  </tbody>\n",
              "</table>\n",
              "</div>"
            ],
            "text/plain": [
              "                                place  \\\n",
              "0  Luxemburger Strasse 66 50674 Koeln   \n",
              "1          Quatermarkt  4 50667 Koeln   \n",
              "2     Rothehausstrasse 30 50823 Koeln   \n",
              "\n",
              "                                                                                                                                address  \\\n",
              "0  Mein Brotkörbchen, 66, Luxemburger Straße, Studentenviertel, Neustadt/Süd, Innenstadt, Köln, Nordrhein-Westfalen, 50674, Deutschland   \n",
              "1               Alt St. Alban, 4, Quatermarkt, Martinsviertel, Altstadt-Nord, Innenstadt, Köln, Nordrhein-Westfalen, 50667, Deutschland   \n",
              "2                                                         30, Rothehausstraße, Ehrenfeld, Köln, Nordrhein-Westfalen, 50823, Deutschland   \n",
              "\n",
              "         lat       lon  importance  \n",
              "0  50.925996  6.938053    0.321000  \n",
              "1  50.936905  6.958254    0.598514  \n",
              "2  50.947517  6.918038    0.221000  "
            ]
          },
          "execution_count": 13,
          "metadata": {},
          "output_type": "execute_result"
        }
      ]
    },
    {
      "cell_type": "code",
      "metadata": {
        "id": "P80bgPygynue"
      },
      "source": [
        ""
      ],
      "execution_count": null,
      "outputs": []
    },
    {
      "cell_type": "code",
      "metadata": {
        "id": "WALfMEihynue"
      },
      "source": [
        ""
      ],
      "execution_count": null,
      "outputs": []
    },
    {
      "cell_type": "code",
      "metadata": {
        "id": "GqzhIVmMynuf"
      },
      "source": [
        ""
      ],
      "execution_count": null,
      "outputs": []
    },
    {
      "cell_type": "code",
      "metadata": {
        "id": "hQla51ftynuf"
      },
      "source": [
        ""
      ],
      "execution_count": null,
      "outputs": []
    }
  ]
}